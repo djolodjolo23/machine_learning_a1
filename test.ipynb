{
 "cells": [
  {
   "cell_type": "markdown",
   "source": [
    "testing testing"
   ],
   "metadata": {
    "collapsed": false
   }
  },
  {
   "cell_type": "code",
   "execution_count": 11,
   "outputs": [],
   "source": [
    "import numpy as np\n",
    "import pandas as pd"
   ],
   "metadata": {
    "collapsed": false
   }
  },
  {
   "cell_type": "code",
   "execution_count": 12,
   "outputs": [
    {
     "name": "stdout",
     "output_type": "stream",
     "text": [
      "     0.051267   0.69956  1\n",
      "0   -0.092742  0.684940  1\n",
      "1   -0.213710  0.692250  1\n",
      "2   -0.375000  0.502190  1\n",
      "3   -0.513250  0.465640  1\n",
      "4   -0.524770  0.209800  1\n",
      "..        ...       ... ..\n",
      "112 -0.720620  0.538740  0\n",
      "113 -0.593890  0.494880  0\n",
      "114 -0.484450  0.999270  0\n",
      "115 -0.006336  0.999270  0\n",
      "116  0.632650 -0.030612  0\n",
      "\n",
      "[117 rows x 3 columns]\n"
     ]
    }
   ],
   "source": [
    "zz = pd.read_csv('A1_datasets/microchips.csv')\n",
    "print(zz)"
   ],
   "metadata": {
    "collapsed": false
   }
  },
  {
   "cell_type": "code",
   "execution_count": null,
   "outputs": [],
   "source": [],
   "metadata": {
    "collapsed": false
   }
  }
 ],
 "metadata": {
  "kernelspec": {
   "display_name": "Python 3",
   "language": "python",
   "name": "python3"
  },
  "language_info": {
   "codemirror_mode": {
    "name": "ipython",
    "version": 2
   },
   "file_extension": ".py",
   "mimetype": "text/x-python",
   "name": "python",
   "nbconvert_exporter": "python",
   "pygments_lexer": "ipython2",
   "version": "2.7.6"
  }
 },
 "nbformat": 4,
 "nbformat_minor": 0
}
